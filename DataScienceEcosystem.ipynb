{
 "cells": [
  {
   "cell_type": "markdown",
   "id": "d8b170e8-b552-45d4-89d5-4567de5dea48",
   "metadata": {},
   "source": [
    "# Data Science Tools and Ecosystem"
   ]
  },
  {
   "cell_type": "markdown",
   "id": "42e6a2b0-a623-4fb4-8e0c-a9432f905e0f",
   "metadata": {},
   "source": [
    "Data Science Tools and Ecocsystem are summarized "
   ]
  },
  {
   "cell_type": "markdown",
   "id": "77270e3b-3992-40c4-b2ac-99f9aedf3045",
   "metadata": {},
   "source": [
    "**Objectives**\n",
    "* Popular languages data scientists use\n",
    "* Libraries commonly used by data scientist\n",
    "* Popular data science tools \n",
    "* Arithmetic Expressions"
   ]
  },
  {
   "cell_type": "markdown",
   "id": "e4c02429-7c70-4816-b571-4d6ddc50ee9d",
   "metadata": {},
   "source": [
    "Some of the popular languages that Data Scientists use are:\n",
    "1. Python\n",
    "2. R \n",
    "3. SQL"
   ]
  },
  {
   "cell_type": "markdown",
   "id": "2251ad20-415b-474d-9e70-ef8bb609861d",
   "metadata": {},
   "source": [
    "Some of the commonly used libraries used by Data Scientist include:\n",
    "1. NumPy\n",
    "2. Pandas\n",
    "3. Matplotlib"
   ]
  },
  {
   "cell_type": "markdown",
   "id": "c1568233-121e-4ded-be50-cb10744e4adf",
   "metadata": {
    "tags": []
   },
   "source": [
    "| Data Science Tools | \n",
    "| -------------|\n",
    "| Visual Studio Code | \n",
    "| Rstudio |\n",
    "| Jupyter Notebook |"
   ]
  },
  {
   "cell_type": "markdown",
   "id": "f3245026-6714-4a95-862f-9cabbad74436",
   "metadata": {},
   "source": [
    "Below are few examples of evaluating arithmetic expressions in Python"
   ]
  },
  {
   "cell_type": "code",
   "execution_count": 2,
   "id": "f5cc117f-a6a7-498b-8f5d-b0ca1b33d60f",
   "metadata": {
    "tags": []
   },
   "outputs": [
    {
     "data": {
      "text/plain": [
       "17"
      ]
     },
     "execution_count": 2,
     "metadata": {},
     "output_type": "execute_result"
    }
   ],
   "source": [
    "# This a simple arithmetic expression to multiply then add integers\n",
    "\n",
    "(3 * 4) + 5"
   ]
  },
  {
   "cell_type": "code",
   "execution_count": 3,
   "id": "8bf02830-792f-4ee0-9a58-72906ae7bb29",
   "metadata": {
    "tags": []
   },
   "outputs": [
    {
     "data": {
      "text/plain": [
       "3"
      ]
     },
     "execution_count": 3,
     "metadata": {},
     "output_type": "execute_result"
    }
   ],
   "source": [
    "# This will convert 200 minutes to hours by dividing by 60\n",
    "\n",
    "200 // 60"
   ]
  },
  {
   "cell_type": "markdown",
   "id": "22b68b0d-7f42-4075-bb4d-6bc085e71c29",
   "metadata": {},
   "source": [
    "## Author\n",
    "\n",
    "* Lakshmi Holla\n",
    "* Niveditha Pandith\n",
    "* Muhammad Hasnan Ramadhan"
   ]
  },
  {
   "cell_type": "code",
   "execution_count": null,
   "id": "10e03c56-293d-4e1a-8203-4ac966c6e775",
   "metadata": {},
   "outputs": [],
   "source": []
  }
 ],
 "metadata": {
  "kernelspec": {
   "display_name": "Python 3 (ipykernel)",
   "language": "python",
   "name": "python3"
  },
  "language_info": {
   "codemirror_mode": {
    "name": "ipython",
    "version": 3
   },
   "file_extension": ".py",
   "mimetype": "text/x-python",
   "name": "python",
   "nbconvert_exporter": "python",
   "pygments_lexer": "ipython3",
   "version": "3.11.4"
  }
 },
 "nbformat": 4,
 "nbformat_minor": 5
}
